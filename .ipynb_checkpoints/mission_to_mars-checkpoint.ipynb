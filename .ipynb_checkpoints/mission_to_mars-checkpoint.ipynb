{
 "cells": [
  {
   "cell_type": "code",
   "execution_count": 14,
   "metadata": {},
   "outputs": [],
   "source": [
    "# dependancies\n",
    "import pandas as pd\n",
    "from splinter import Browser\n",
    "from bs4 import BeautifulSoup\n",
    "from webdriver_manager.chrome import ChromeDriverManager\n",
    "import time"
   ]
  },
  {
   "cell_type": "code",
   "execution_count": 15,
   "metadata": {},
   "outputs": [
    {
     "name": "stderr",
     "output_type": "stream",
     "text": [
      "\n",
      "\n",
      "====== WebDriver manager ======\n",
      "Current google-chrome version is 90.0.4430\n",
      "Get LATEST driver version for 90.0.4430\n",
      "Driver [/Users/michaelwelch/.wdm/drivers/chromedriver/mac64/90.0.4430.24/chromedriver] found in cache\n"
     ]
    }
   ],
   "source": [
    "executable_path = {'executable_path': ChromeDriverManager().install()}\n",
    "browser = Browser('chrome', **executable_path, headless=False)"
   ]
  },
  {
   "cell_type": "code",
   "execution_count": 6,
   "metadata": {},
   "outputs": [
    {
     "name": "stdout",
     "output_type": "stream",
     "text": [
      "{'headline': \"NASA's Ingenuity Helicopter to Begin New Demonstration Phase\", 'summary': 'The Red Planet rotorcraft will shift focus from proving flight is possible on Mars to demonstrating flight operations that future aerial craft could utilize.'}\n"
     ]
    }
   ],
   "source": [
    "# create dictionary to contain results\n",
    "mars_news = {}\n",
    "\n",
    "# assign url\n",
    "url = 'https://mars.nasa.gov/news/'\n",
    "\n",
    "# splinter to url\n",
    "browser.visit(url)\n",
    "time.sleep(3)\n",
    "\n",
    "# cook up some soup\n",
    "html = browser.html\n",
    "soup = BeautifulSoup(html, 'html.parser')\n",
    "\n",
    "# scrape time\n",
    "mars_news['headline'] = soup.find('div', class_='bottom_gradient').find_all('h3')[0].text.strip()\n",
    "mars_news['summary'] = soup.find('div', class_='article_teaser_body').get_text()\n",
    "\n",
    "# test\n",
    "print(mars_news)"
   ]
  },
  {
   "cell_type": "code",
   "execution_count": 12,
   "metadata": {},
   "outputs": [
    {
     "name": "stdout",
     "output_type": "stream",
     "text": [
      "{'image_url': 'https://d2pn8kiwq2w21t.cloudfront.net/images/jpegPIA24633.2e16d0ba.fill-400x400-c50.jpg'}\n"
     ]
    }
   ],
   "source": [
    "# create dictionary to contain results\n",
    "mars_pics = {}\n",
    "\n",
    "# assign url\n",
    "url = 'https://www.jpl.nasa.gov/images?search=&category=Mars'\n",
    "\n",
    "# splinter to url\n",
    "browser.visit(url)\n",
    "time.sleep(3)\n",
    "\n",
    "# navigate to first mars image\n",
    "browser.find_by_id('filter_Mars').click()\n",
    "browser.find_by_css('.BaseImage').first.click()\n",
    "\n",
    "# give it a second or three\n",
    "time.sleep(3)\n",
    "\n",
    "# cook up another batch of soup\n",
    "html = browser.html\n",
    "soup = BeautifulSoup(html, 'html.parser')\n",
    "\n",
    "# scrape\n",
    "mars_pics['image_url'] = soup.find('img', class_='BaseImage')['data-src']\n",
    "\n",
    "# test\n",
    "print(mars_pics)"
   ]
  },
  {
   "cell_type": "code",
   "execution_count": 29,
   "metadata": {},
   "outputs": [
    {
     "name": "stdout",
     "output_type": "stream",
     "text": [
      "<table border=\"1\" class=\"dataframe table table-striped\">\n",
      "  <thead>\n",
      "    <tr style=\"text-align: right;\">\n",
      "      <th></th>\n",
      "      <th>Mars</th>\n",
      "    </tr>\n",
      "    <tr>\n",
      "      <th>Description</th>\n",
      "      <th></th>\n",
      "    </tr>\n",
      "  </thead>\n",
      "  <tbody>\n",
      "    <tr>\n",
      "      <th>Equatorial Diameter:</th>\n",
      "      <td>6,792 km</td>\n",
      "    </tr>\n",
      "    <tr>\n",
      "      <th>Polar Diameter:</th>\n",
      "      <td>6,752 km</td>\n",
      "    </tr>\n",
      "    <tr>\n",
      "      <th>Mass:</th>\n",
      "      <td>6.39 × 10^23 kg (0.11 Earths)</td>\n",
      "    </tr>\n",
      "    <tr>\n",
      "      <th>Moons:</th>\n",
      "      <td>2 (Phobos &amp; Deimos)</td>\n",
      "    </tr>\n",
      "    <tr>\n",
      "      <th>Orbit Distance:</th>\n",
      "      <td>227,943,824 km (1.38 AU)</td>\n",
      "    </tr>\n",
      "    <tr>\n",
      "      <th>Orbit Period:</th>\n",
      "      <td>687 days (1.9 years)</td>\n",
      "    </tr>\n",
      "    <tr>\n",
      "      <th>Surface Temperature:</th>\n",
      "      <td>-87 to -5 °C</td>\n",
      "    </tr>\n",
      "    <tr>\n",
      "      <th>First Record:</th>\n",
      "      <td>2nd millennium BC</td>\n",
      "    </tr>\n",
      "    <tr>\n",
      "      <th>Recorded By:</th>\n",
      "      <td>Egyptian astronomers</td>\n",
      "    </tr>\n",
      "  </tbody>\n",
      "</table>\n"
     ]
    }
   ],
   "source": [
    "# assign url\n",
    "url = 'https://space-facts.com/mars/'\n",
    "\n",
    "# use pandas to read html\n",
    "tables = pd.read_html(url)\n",
    "\n",
    "# find table\n",
    "mars_facts = tables[0]\n",
    "\n",
    "# create df and html\n",
    "mars_facts.columns = ['Description', 'Mars']\n",
    "mars_facts.set_index('Description', inplace=True)\n",
    "mars_facts_web = mars_facts.to_html(classes='table table-striped')\n",
    "\n",
    "#test\n",
    "print(mars_facts_web)"
   ]
  },
  {
   "cell_type": "code",
   "execution_count": 33,
   "metadata": {},
   "outputs": [
    {
     "name": "stdout",
     "output_type": "stream",
     "text": [
      "[{'title': 'Cerberus Hemisphere Enhanced', 'img_url': 'https://astropedia.astrogeology.usgs.gov/download/Mars/Viking/cerberus_enhanced.tif/full.jpg'}, {'title': 'Schiaparelli Hemisphere Enhanced', 'img_url': 'https://astropedia.astrogeology.usgs.gov/download/Mars/Viking/schiaparelli_enhanced.tif/full.jpg'}, {'title': 'Syrtis Major Hemisphere Enhanced', 'img_url': 'https://astropedia.astrogeology.usgs.gov/download/Mars/Viking/syrtis_major_enhanced.tif/full.jpg'}, {'title': 'Valles Marineris Hemisphere Enhanced', 'img_url': 'https://astropedia.astrogeology.usgs.gov/download/Mars/Viking/valles_marineris_enhanced.tif/full.jpg'}]\n"
     ]
    }
   ],
   "source": [
    "# create dictionary to contain results\n",
    "hemispheres = []\n",
    "\n",
    "# assign url\n",
    "url = 'https://astrogeology.usgs.gov/search/results?q=hemisphere+enhanced&k1=target&v1=Mars'\n",
    "\n",
    "# splinter\n",
    "browser.visit(url)\n",
    "\n",
    "# have splinter navigate the site\n",
    "for x in range(0,4):\n",
    "    hems_dict = {}\n",
    "    browser.find_by_css('h3')[x].click()\n",
    "    time.sleep(3)\n",
    "    \n",
    "    # make new soup\n",
    "    html = browser.html\n",
    "    soup = BeautifulSoup(html, 'html.parser')\n",
    "    \n",
    "    # scrape\n",
    "    hems_dict['title']=soup.find('h2', class_='title').get_text()\n",
    "    hems_dict['img_url']=soup.li.find('a')['href']\n",
    "    \n",
    "    # append dictionary to list\n",
    "    hemispheres.append(hems_dict)\n",
    "    \n",
    "    # send splinter back to url\n",
    "    browser.visit(url)\n",
    "\n",
    "# test\n",
    "print(hemispheres)\n",
    "    "
   ]
  },
  {
   "cell_type": "code",
   "execution_count": 34,
   "metadata": {},
   "outputs": [],
   "source": [
    "browser.quit()"
   ]
  }
 ],
 "metadata": {
  "kernelspec": {
   "display_name": "Python 3",
   "language": "python",
   "name": "python3"
  },
  "language_info": {
   "codemirror_mode": {
    "name": "ipython",
    "version": 3
   },
   "file_extension": ".py",
   "mimetype": "text/x-python",
   "name": "python",
   "nbconvert_exporter": "python",
   "pygments_lexer": "ipython3",
   "version": "3.8.5"
  }
 },
 "nbformat": 4,
 "nbformat_minor": 4
}
